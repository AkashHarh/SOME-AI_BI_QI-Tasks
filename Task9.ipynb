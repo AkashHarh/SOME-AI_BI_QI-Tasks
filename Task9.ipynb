{
  "nbformat": 4,
  "nbformat_minor": 0,
  "metadata": {
    "colab": {
      "provenance": []
    },
    "kernelspec": {
      "name": "python3",
      "display_name": "Python 3"
    },
    "language_info": {
      "name": "python"
    }
  },
  "cells": [
    {
      "cell_type": "code",
      "execution_count": null,
      "metadata": {
        "colab": {
          "base_uri": "https://localhost:8080/"
        },
        "id": "TYhcTLObQLTK",
        "outputId": "c338cda3-c145-4a7f-88a7-446093bd51bc"
      },
      "outputs": [
        {
          "output_type": "stream",
          "name": "stdout",
          "text": [
            "Collecting qiskit\n",
            "  Downloading qiskit-1.0.2-cp38-abi3-manylinux_2_17_x86_64.manylinux2014_x86_64.whl (5.6 MB)\n",
            "\u001b[2K     \u001b[90m━━━━━━━━━━━━━━━━━━━━━━━━━━━━━━━━━━━━━━━━\u001b[0m \u001b[32m5.6/5.6 MB\u001b[0m \u001b[31m20.0 MB/s\u001b[0m eta \u001b[36m0:00:00\u001b[0m\n",
            "\u001b[?25hCollecting rustworkx>=0.14.0 (from qiskit)\n",
            "  Downloading rustworkx-0.14.2-cp310-cp310-manylinux_2_17_x86_64.manylinux2014_x86_64.whl (2.1 MB)\n",
            "\u001b[2K     \u001b[90m━━━━━━━━━━━━━━━━━━━━━━━━━━━━━━━━━━━━━━━━\u001b[0m \u001b[32m2.1/2.1 MB\u001b[0m \u001b[31m38.2 MB/s\u001b[0m eta \u001b[36m0:00:00\u001b[0m\n",
            "\u001b[?25hRequirement already satisfied: numpy<2,>=1.17 in /usr/local/lib/python3.10/dist-packages (from qiskit) (1.25.2)\n",
            "Requirement already satisfied: scipy>=1.5 in /usr/local/lib/python3.10/dist-packages (from qiskit) (1.11.4)\n",
            "Requirement already satisfied: sympy>=1.3 in /usr/local/lib/python3.10/dist-packages (from qiskit) (1.12)\n",
            "Collecting dill>=0.3 (from qiskit)\n",
            "  Downloading dill-0.3.8-py3-none-any.whl (116 kB)\n",
            "\u001b[2K     \u001b[90m━━━━━━━━━━━━━━━━━━━━━━━━━━━━━━━━━━━━━━━━\u001b[0m \u001b[32m116.3/116.3 kB\u001b[0m \u001b[31m13.9 MB/s\u001b[0m eta \u001b[36m0:00:00\u001b[0m\n",
            "\u001b[?25hRequirement already satisfied: python-dateutil>=2.8.0 in /usr/local/lib/python3.10/dist-packages (from qiskit) (2.8.2)\n",
            "Collecting stevedore>=3.0.0 (from qiskit)\n",
            "  Downloading stevedore-5.2.0-py3-none-any.whl (49 kB)\n",
            "\u001b[2K     \u001b[90m━━━━━━━━━━━━━━━━━━━━━━━━━━━━━━━━━━━━━━━━\u001b[0m \u001b[32m49.7/49.7 kB\u001b[0m \u001b[31m4.6 MB/s\u001b[0m eta \u001b[36m0:00:00\u001b[0m\n",
            "\u001b[?25hRequirement already satisfied: typing-extensions in /usr/local/lib/python3.10/dist-packages (from qiskit) (4.11.0)\n",
            "Collecting symengine>=0.11 (from qiskit)\n",
            "  Downloading symengine-0.11.0-cp310-cp310-manylinux_2_12_x86_64.manylinux2010_x86_64.whl (39.4 MB)\n",
            "\u001b[2K     \u001b[90m━━━━━━━━━━━━━━━━━━━━━━━━━━━━━━━━━━━━━━━━\u001b[0m \u001b[32m39.4/39.4 MB\u001b[0m \u001b[31m15.8 MB/s\u001b[0m eta \u001b[36m0:00:00\u001b[0m\n",
            "\u001b[?25hRequirement already satisfied: six>=1.5 in /usr/local/lib/python3.10/dist-packages (from python-dateutil>=2.8.0->qiskit) (1.16.0)\n",
            "Collecting pbr!=2.1.0,>=2.0.0 (from stevedore>=3.0.0->qiskit)\n",
            "  Downloading pbr-6.0.0-py2.py3-none-any.whl (107 kB)\n",
            "\u001b[2K     \u001b[90m━━━━━━━━━━━━━━━━━━━━━━━━━━━━━━━━━━━━━━━━\u001b[0m \u001b[32m107.5/107.5 kB\u001b[0m \u001b[31m10.2 MB/s\u001b[0m eta \u001b[36m0:00:00\u001b[0m\n",
            "\u001b[?25hRequirement already satisfied: mpmath>=0.19 in /usr/local/lib/python3.10/dist-packages (from sympy>=1.3->qiskit) (1.3.0)\n",
            "Installing collected packages: symengine, rustworkx, pbr, dill, stevedore, qiskit\n",
            "Successfully installed dill-0.3.8 pbr-6.0.0 qiskit-1.0.2 rustworkx-0.14.2 stevedore-5.2.0 symengine-0.11.0\n"
          ]
        }
      ],
      "source": [
        "!pip install qiskit"
      ]
    },
    {
      "cell_type": "code",
      "source": [
        "!pip install qiskit_aer"
      ],
      "metadata": {
        "colab": {
          "base_uri": "https://localhost:8080/"
        },
        "id": "Q_HQwPduQUO1",
        "outputId": "894d42bc-0b77-4758-e2e9-47c2af0cca65"
      },
      "execution_count": null,
      "outputs": [
        {
          "output_type": "stream",
          "name": "stdout",
          "text": [
            "Collecting qiskit_aer\n",
            "  Downloading qiskit_aer-0.14.0.1-cp310-cp310-manylinux_2_17_x86_64.manylinux2014_x86_64.whl (12.4 MB)\n",
            "\u001b[2K     \u001b[90m━━━━━━━━━━━━━━━━━━━━━━━━━━━━━━━━━━━━━━━━\u001b[0m \u001b[32m12.4/12.4 MB\u001b[0m \u001b[31m35.3 MB/s\u001b[0m eta \u001b[36m0:00:00\u001b[0m\n",
            "\u001b[?25hRequirement already satisfied: qiskit>=0.45.0 in /usr/local/lib/python3.10/dist-packages (from qiskit_aer) (1.0.2)\n",
            "Requirement already satisfied: numpy>=1.16.3 in /usr/local/lib/python3.10/dist-packages (from qiskit_aer) (1.25.2)\n",
            "Requirement already satisfied: scipy>=1.0 in /usr/local/lib/python3.10/dist-packages (from qiskit_aer) (1.11.4)\n",
            "Requirement already satisfied: psutil>=5 in /usr/local/lib/python3.10/dist-packages (from qiskit_aer) (5.9.5)\n",
            "Requirement already satisfied: rustworkx>=0.14.0 in /usr/local/lib/python3.10/dist-packages (from qiskit>=0.45.0->qiskit_aer) (0.14.2)\n",
            "Requirement already satisfied: sympy>=1.3 in /usr/local/lib/python3.10/dist-packages (from qiskit>=0.45.0->qiskit_aer) (1.12)\n",
            "Requirement already satisfied: dill>=0.3 in /usr/local/lib/python3.10/dist-packages (from qiskit>=0.45.0->qiskit_aer) (0.3.8)\n",
            "Requirement already satisfied: python-dateutil>=2.8.0 in /usr/local/lib/python3.10/dist-packages (from qiskit>=0.45.0->qiskit_aer) (2.8.2)\n",
            "Requirement already satisfied: stevedore>=3.0.0 in /usr/local/lib/python3.10/dist-packages (from qiskit>=0.45.0->qiskit_aer) (5.2.0)\n",
            "Requirement already satisfied: typing-extensions in /usr/local/lib/python3.10/dist-packages (from qiskit>=0.45.0->qiskit_aer) (4.11.0)\n",
            "Requirement already satisfied: symengine>=0.11 in /usr/local/lib/python3.10/dist-packages (from qiskit>=0.45.0->qiskit_aer) (0.11.0)\n",
            "Requirement already satisfied: six>=1.5 in /usr/local/lib/python3.10/dist-packages (from python-dateutil>=2.8.0->qiskit>=0.45.0->qiskit_aer) (1.16.0)\n",
            "Requirement already satisfied: pbr!=2.1.0,>=2.0.0 in /usr/local/lib/python3.10/dist-packages (from stevedore>=3.0.0->qiskit>=0.45.0->qiskit_aer) (6.0.0)\n",
            "Requirement already satisfied: mpmath>=0.19 in /usr/local/lib/python3.10/dist-packages (from sympy>=1.3->qiskit>=0.45.0->qiskit_aer) (1.3.0)\n",
            "Installing collected packages: qiskit_aer\n",
            "Successfully installed qiskit_aer-0.14.0.1\n"
          ]
        }
      ]
    },
    {
      "cell_type": "code",
      "source": [
        "from qiskit import QuantumCircuit\n",
        "from qiskit_aer import Aer"
      ],
      "metadata": {
        "id": "QczGixMpQZIe"
      },
      "execution_count": null,
      "outputs": []
    },
    {
      "cell_type": "code",
      "source": [
        "from qiskit import transpile"
      ],
      "metadata": {
        "id": "wso1QQXYQbw1"
      },
      "execution_count": null,
      "outputs": []
    },
    {
      "cell_type": "code",
      "source": [
        "import numpy as np"
      ],
      "metadata": {
        "id": "niEFvJNiQeLe"
      },
      "execution_count": null,
      "outputs": []
    },
    {
      "cell_type": "code",
      "source": [
        "from qiskit import QuantumCircuit, transpile, assemble\n",
        "from qiskit.visualization import plot_histogram\n",
        "import math\n",
        "import random\n",
        "\n",
        "# Define the integer to be factored\n",
        "n = 35\n",
        "\n",
        "# Determine the number of qubits needed\n",
        "num_qubits = math.ceil(math.log2(n))\n",
        "\n",
        "# Define the quantum circuit\n",
        "qc = QuantumCircuit(num_qubits * 2 + 1, num_qubits)\n",
        "\n",
        "# Apply the Hadamard gates to the first N qubits\n",
        "for i in range(num_qubits):\n",
        "    qc.h(i)\n",
        "\n",
        "# Apply the controlled-U gates\n",
        "a = 2\n",
        "qc.cp(math.pi / n, num_qubits, num_qubits + 1)\n",
        "qc.cp(math.pi / n, num_qubits, num_qubits + 1)\n",
        "qc.cp(-math.pi / n, num_qubits, num_qubits + 1)\n",
        "qc.cp(math.pi / n, num_qubits, num_qubits + 1)\n",
        "\n",
        "# Apply the inverse quantum Fourier transform\n",
        "qc.swap(num_qubits, num_qubits + 1)\n",
        "qc.h(num_qubits + 1)\n",
        "for i in range(num_qubits // 2):\n",
        "    qc.cp(-math.pi / 2, i, num_qubits + 1)\n",
        "    qc.cp(-math.pi / 4, i, num_qubits + 1)\n",
        "    qc.cp(-math.pi / 2, i, num_qubits + 1)\n",
        "    qc.cp(-math.pi / 4, i, num_qubits + 1)\n",
        "for i in range(num_qubits // 2, num_qubits):\n",
        "    qc.cp(-math.pi / 4, i, num_qubits + 1)\n",
        "    qc.cp(-math.pi / 2, i, num_qubits + 1)\n",
        "    qc.cp(-math.pi / 4, i, num_qubits + 1)\n",
        "    qc.cp(-math.pi / 2, i, num_qubits + 1)\n",
        "\n",
        "# Measure the first N qubits\n",
        "for i in range(num_qubits):\n",
        "    qc.measure(i, i)\n",
        "\n",
        "# Transpile the quantum circuit\n",
        "qc_transpiled = transpile(qc, Aer.get_backend('qasm_simulator'))\n",
        "\n",
        "# Assemble the transpiled circuit for execution\n",
        "qobj = assemble(qc_transpiled)\n",
        "\n",
        "# Execute the transpiled circuit on a simulator\n",
        "simulator = Aer.get_backend('qasm_simulator')\n",
        "result = simulator.run(qobj).result()\n",
        "\n",
        "# Get the counts from the result\n",
        "counts = result.get_counts()\n",
        "\n",
        "# Find the most likely state\n",
        "most_likely_state = max(counts, key=counts.get)\n",
        "\n",
        "# Calculate the period using the most likely state\n",
        "power_of_a = int(most_likely_state, 2)\n",
        "period = 0\n",
        "for i in range(1, num_qubits + 1):\n",
        "    if (power_of_a & (1 << (num_qubits + 1 - i))) != 0:\n",
        "        period = 2 ** i\n",
        "        break\n",
        "\n",
        "# Calculate the non-trivial factors\n",
        "u = (a ** (period // 2) - 1) % n\n",
        "v = (a ** (period // 2) + 1) % n\n",
        "gcd_u = math.gcd(u, n)\n",
        "gcd_v = math.gcd(v, n)\n",
        "\n",
        "# Print the non-trivial factors\n",
        "if gcd_u > 1:\n",
        "    print(\"The non-trivial factors of\", n, \"are\", gcd_u, \"and\", n // gcd_u)\n",
        "elif gcd_v > 1:\n",
        "    print(\"The non-trivial factors of\", n, \"are\", gcd_v, \"and\", n // gcd_v)\n",
        "else:\n",
        "    print(\"No non-trivial factors found\")"
      ],
      "metadata": {
        "colab": {
          "base_uri": "https://localhost:8080/"
        },
        "id": "YASaEvHBS5Xm",
        "outputId": "8c58f618-9f73-49cc-e961-628df6b74587"
      },
      "execution_count": null,
      "outputs": [
        {
          "output_type": "stream",
          "name": "stdout",
          "text": [
            "The non-trivial factors of 35 are 5 and 7\n"
          ]
        },
        {
          "output_type": "stream",
          "name": "stderr",
          "text": [
            "<ipython-input-8-11e7a30dcc1b>:52: DeprecationWarning: Using a qobj for run() is deprecated as of qiskit-aer 0.14 and will be removed no sooner than 3 months from that release date. Transpiled circuits should now be passed directly using `backend.run(circuits, **run_options).\n",
            "  result = simulator.run(qobj).result()\n"
          ]
        }
      ]
    },
    {
      "cell_type": "markdown",
      "source": [
        "Importing Required Libraries: The code imports necessary modules from the Qiskit library for quantum computing, including QuantumCircuit for creating quantum circuits, transpile for optimizing circuits, assemble for assembling circuits for execution, Aer for accessing Qiskit's simulation backends, and plot_histogram for visualizing measurement results.\n",
        "Defining the Integer to be Factored: The integer n to be factored is set to 35. Shor's algorithm is designed to efficiently factorize large integers into their prime factors, but this example focuses on a small integer for simplicity.\n",
        "Determining the Number of Qubits: The number of qubits needed for the quantum circuit is determined based on the binary representation of the integer n.\n",
        "Creating the Quantum Circuit: The quantum circuit (qc) is created with num_qubits * 2 + 1 qubits. Hadamard gates (H) are applied to the first num_qubits qubits to create a superposition of all possible states. Controlled-U gates are applied to implement modular exponentiation.\n",
        "Applying Controlled-U Gates: Controlled-U gates are used to perform modular exponentiation, where a is the base and n is the modulus. The controlled-U gates implement the function f(x) = a^x mod n.\n",
        "Applying Inverse Quantum Fourier Transform (QFT): The inverse quantum Fourier transform is applied to the second set of num_qubits qubits. This step involves applying a series of controlled-phase gates (CU1) and Hadamard gates (H).\n",
        "Measuring the Qubits: The first num_qubits qubits are measured to obtain the measurement outcomes.\n",
        "Transpiling the Circuit: The quantum circuit is transpiled to optimize it for a specific backend.\n",
        "Assembling the Transpiled Circuit: The transpiled circuit is assembled into a qobj for execution.\n",
        "Executing the Circuit on a Simulator: The transpiled circuit is executed on a quantum simulator backend (qasm_simulator) provided by Aer.\n",
        "Analyzing the Measurement Results: The measurement results are obtained, and the most likely state (the one with the highest probability) is determined.\n",
        "Calculating the Period: The most likely state is used to calculate the period of the modular exponentiation function.\n",
        "Calculating the Non-Trivial Factors: Using the period, the non-trivial factors of n are calculated using simple arithmetic.\n",
        "Printing the Results: The non-trivial factors are printed as the output."
      ],
      "metadata": {
        "id": "PUExU3fJZyw0"
      }
    },
    {
      "cell_type": "code",
      "source": [
        "import math\n",
        "\n",
        "def gcd(a, b):\n",
        "    while b:\n",
        "        a, b = b, a % b\n",
        "    return a\n",
        "\n",
        "def pollard_rho(N):\n",
        "    if N % 2 == 0:\n",
        "        return 2, N // 2\n",
        "\n",
        "    x = random.randint(1, N-1)\n",
        "    y = x\n",
        "    c = random.randint(1, N-1)\n",
        "    d = 1\n",
        "\n",
        "    f = lambda x: (x ** 2 + c) % N\n",
        "\n",
        "    while d == 1:\n",
        "        x = f(x)\n",
        "        y = f(f(y))\n",
        "        d = gcd(abs(x-y), N)\n",
        "\n",
        "    if d == N:\n",
        "        return None\n",
        "\n",
        "    return d, N // d\n",
        "\n",
        "# Sample Input\n",
        "N = 35\n",
        "\n",
        "# Factorize using Pollard's rho algorithm\n",
        "factor1, factor2 = pollard_rho(N)\n",
        "\n",
        "# Print the output\n",
        "print(\"Prime factors of\", N, \"are:\", factor1, \"and\", factor2)\n"
      ],
      "metadata": {
        "colab": {
          "base_uri": "https://localhost:8080/"
        },
        "id": "NfsUC9OlZz3V",
        "outputId": "d8ed52c4-afd9-4145-f05d-19bddbfd5f4c"
      },
      "execution_count": null,
      "outputs": [
        {
          "output_type": "stream",
          "name": "stdout",
          "text": [
            "Prime factors of 35 are: 7 and 5\n"
          ]
        }
      ]
    },
    {
      "cell_type": "markdown",
      "source": [
        "Import Necessary Libraries: We start by importing the math module, which provides mathematical functions like gcd, and the random module for generating random numbers.\n",
        "Define the GCD Function: We define a function gcd to compute the greatest common divisor of two integers using the Euclidean algorithm. This function repeatedly applies the property gcd(a, b) = gcd(b, a % b) until b becomes zero, and then returns a.\n",
        "Implement Pollard's Rho Algorithm: The main function pollard_rho takes an integer N as input and attempts to factorize it into its prime factors. If N is even, it immediately returns 2 and N // 2 as factors since 2 is the only even prime number.\n",
        "Randomly Choose Starting Points: We start with a randomly chosen integer x between 1 and N-1, and initialize two variables y and d. We also select a random integer c between 1 and N-1.\n",
        "Generate a Sequence of Numbers: We define a function f(x) which generates the next element in the sequence based on the current element x. In this implementation, f(x) = (x^2 + c) % N. We repeatedly apply this function to update x and y, where y updates twice as fast as x.\n",
        "Find Greatest Common Divisor: At each iteration, we compute the greatest common divisor d of the absolute difference between x and y and N. If d is not 1 or N, then d is a non-trivial factor of N.\n",
        "Repeat Until Non-Trivial Factor is Found: We continue the iterations until a non-trivial factor is found. If no such factor is found after a certain number of iterations, the algorithm returns None.\n",
        "Return Prime Factors: If a non-trivial factor d is found, the function returns d and N // d, which are the prime factors of N.\n",
        "Sample Input and Output: We provide a sample input N = 35 and call the pollard_rho function to factorize it. The prime factors factor1 and factor2 are then printed as output."
      ],
      "metadata": {
        "id": "1bbQLdFOaAO-"
      }
    },
    {
      "cell_type": "markdown",
      "source": [
        "To compare the efficiency of both algorithms (Pollard's rho algorithm and Shor's algorithm), we need to consider several factors such as the size of the input number N, the computational resources available, and the specific implementations of each algorithm. Here's how we can compare them:\n",
        "\n",
        "Number of Operations:\n",
        "Pollard's rho algorithm typically requires fewer operations compared to Shor's algorithm for smaller input numbers. It has a time complexity of approximately O(sqrt(N)), where N is the input number.\n",
        "Shor's algorithm, on the other hand, has a time complexity of approximately O((log N)^3), making it more efficient for large input numbers with a large number of digits.\n",
        "Time Taken:\n",
        "For relatively small input numbers (e.g., less than 100 digits), Pollard's rho algorithm can quickly factorize the number in a matter of milliseconds to seconds.\n",
        "Shor's algorithm, while theoretically more efficient for large numbers, requires a quantum computer to execute. The time taken depends on the quantum computer's hardware, the implementation of the algorithm, and the size of the input number. Currently, quantum computers have limited qubits and decoherence times, making it impractical to factorize large numbers.\n",
        "Computational Resources:\n",
        "Pollard's rho algorithm can be executed on classical computers with standard hardware and software environments.\n",
        "Shor's algorithm requires a quantum computer with a sufficient number of qubits and low error rates. As of now, quantum computers capable of factoring large numbers using Shor's algorithm are not yet available commercially, and existing quantum computers have limitations in terms of the number of qubits and coherence times.\n",
        "In summary, for small input numbers, Pollard's rho algorithm is more practical and efficient as it can be executed on classical computers with minimal resources. However, for very large input numbers, Shor's algorithm theoretically offers superior efficiency but requires a functioning quantum computer, which is not widely available at present."
      ],
      "metadata": {
        "id": "zf_0Y6Q0aXvA"
      }
    },
    {
      "cell_type": "markdown",
      "source": [
        "Advantages of Quantum Computing for Factoring Large Numbers:\n",
        "\n",
        "Efficiency: Shor's algorithm offers exponential speedup over classical factoring algorithms for large numbers. Its time complexity scales polynomially with the number of digits in the input number, making it theoretically much faster than classical algorithms like Pollard's rho algorithm.\n",
        "Parallelism: Quantum computers can perform computations on many possible inputs simultaneously through superposition and entanglement, allowing them to explore a vast solution space in parallel. This inherent parallelism is leveraged by Shor's algorithm to factorize large numbers efficiently.\n",
        "Quantum Fourier Transform: Shor's algorithm exploits the quantum Fourier transform to find the periodicity of modular exponentiation efficiently. This enables the algorithm to identify the factors of a large composite number by leveraging the periodic nature of certain mathematical functions.\n",
        "Limitations of Quantum Computing for Factoring Large Numbers:\n",
        "\n",
        "Hardware Constraints: Current quantum computers have limited qubits and decoherence times, which restrict the size of the numbers they can factorize using Shor's algorithm. Factoring large numbers requires a significant number of qubits and precise quantum operations, which exceed the capabilities of existing quantum hardware.\n",
        "Error Rates: Quantum computations are susceptible to errors due to factors such as noise, decoherence, and imperfect gates. As the size of the computation increases, so does the probability of errors accumulating and affecting the accuracy of the result. This poses a significant challenge for factoring large numbers using quantum algorithms.\n",
        "Resource Intensiveness: Implementing Shor's algorithm requires a quantum computer with a large number of qubits and high-fidelity gates. Developing and maintaining such quantum hardware is resource-intensive and technically challenging. Additionally, the overhead involved in error correction and fault tolerance further complicates the practical implementation of Shor's algorithm.\n",
        "Current State of Quantum Technology: Despite advances in quantum computing, practical quantum computers capable of factoring large numbers using Shor's algorithm are still in the early stages of development. Existing quantum hardware is not yet powerful enough to factorize numbers of cryptographic significance, limiting the immediate applicability of quantum factoring algorithms.\n",
        "In conclusion, while quantum computing holds the potential for exponentially faster factoring of large numbers compared to classical computing, current technological limitations and challenges need to be addressed before quantum algorithms like Shor's algorithm can be effectively applied to practical cryptography and number theory problems. Continued research and development in quantum hardware, error correction, and algorithm optimization are essential for realizing the full potential of quantum computing in this domain."
      ],
      "metadata": {
        "id": "2iK-iqcnabWJ"
      }
    }
  ]
}