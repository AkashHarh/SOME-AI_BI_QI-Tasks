{
  "nbformat": 4,
  "nbformat_minor": 0,
  "metadata": {
    "colab": {
      "provenance": []
    },
    "kernelspec": {
      "name": "python3",
      "display_name": "Python 3"
    },
    "language_info": {
      "name": "python"
    }
  },
  "cells": [
    {
      "cell_type": "markdown",
      "source": [
        "**Here's the Python code to calculate Alice's and Bob's public keys using the parameters provided**"
      ],
      "metadata": {
        "id": "g1arO63l1gXk"
      }
    },
    {
      "cell_type": "code",
      "source": [
        "# Parameters\n",
        "p = 23\n",
        "g = 5\n",
        "a = 6  # Alice's private key\n",
        "b = 15  # Bob's private key\n",
        "\n",
        "# Function to calculate public key\n",
        "def calculate_public_key(private_key, base, prime):\n",
        "    return (base ** private_key) % prime\n",
        "\n",
        "# Calculate Alice's public key\n",
        "Alice_public_key = calculate_public_key(a, g, p)\n",
        "\n",
        "# Calculate Bob's public key\n",
        "Bob_public_key = calculate_public_key(b, g, p)\n",
        "\n",
        "# Output\n",
        "print(\"Alice's public key (A):\", Alice_public_key)\n",
        "print(\"Bob's public key (B):\", Bob_public_key)\n"
      ],
      "metadata": {
        "colab": {
          "base_uri": "https://localhost:8080/"
        },
        "id": "8EkKUFHW1iyU",
        "outputId": "08d9efcc-5587-44c9-f191-f56eba8efdb6"
      },
      "execution_count": null,
      "outputs": [
        {
          "output_type": "stream",
          "name": "stdout",
          "text": [
            "Alice's public key (A): 8\n",
            "Bob's public key (B): 19\n"
          ]
        }
      ]
    },
    {
      "cell_type": "markdown",
      "source": [
        "**Here's the Python function to compute the shared secret**"
      ],
      "metadata": {
        "id": "OXV4yZGM1tad"
      }
    },
    {
      "cell_type": "code",
      "source": [
        "# Parameters\n",
        "p = 23\n",
        "g = 5\n",
        "A = 8  # Alice's public key\n",
        "B = 19  # Bob's public key\n",
        "\n",
        "# Function to calculate shared secret key\n",
        "def calculate_shared_secret_key(public_key_self, public_key_other, prime):\n",
        "    return (public_key_other ** public_key_self) % prime\n",
        "\n",
        "# Calculate shared secret key\n",
        "shared_secret_key = calculate_shared_secret_key(A, B, p)\n",
        "\n",
        "# Output\n",
        "print(\"Shared secret key (S):\", shared_secret_key)\n"
      ],
      "metadata": {
        "colab": {
          "base_uri": "https://localhost:8080/"
        },
        "id": "bgbqeZQS2Vk6",
        "outputId": "c51f028c-a080-46e2-b9ff-f542923e1fb9"
      },
      "execution_count": null,
      "outputs": [
        {
          "output_type": "stream",
          "name": "stdout",
          "text": [
            "Shared secret key (S): 9\n"
          ]
        }
      ]
    },
    {
      "cell_type": "markdown",
      "source": [
        "** Here is the shared secret key using Alice and Bob's private keys**"
      ],
      "metadata": {
        "id": "u3Jip5cT2aSy"
      }
    },
    {
      "cell_type": "code",
      "source": [
        "# Parameters\n",
        "p = 23\n",
        "g = 5\n",
        "a = 6  # Alice's private key\n",
        "b = 15  # Bob's private key\n",
        "\n",
        "# Function to calculate shared secret key\n",
        "def calculate_shared_secret_key(private_key_self, public_key_other, prime):\n",
        "    return (public_key_other ** private_key_self) % prime\n",
        "\n",
        "# Calculate Alice's public key\n",
        "A = (g ** a) % p\n",
        "\n",
        "# Calculate Bob's public key\n",
        "B = (g ** b) % p\n",
        "\n",
        "# Calculate shared secret key\n",
        "shared_secret_key_Alice = calculate_shared_secret_key(a, B, p)\n",
        "shared_secret_key_Bob = calculate_shared_secret_key(b, A, p)\n",
        "\n",
        "# Output\n",
        "print(\"Shared secret key (Alice):\", shared_secret_key_Alice)\n",
        "print(\"Shared secret key (Bob):\", shared_secret_key_Bob)\n"
      ],
      "metadata": {
        "colab": {
          "base_uri": "https://localhost:8080/"
        },
        "id": "Hz-YawiA2u5s",
        "outputId": "d60f3974-ef63-461d-84aa-4836c8ec801f"
      },
      "execution_count": null,
      "outputs": [
        {
          "output_type": "stream",
          "name": "stdout",
          "text": [
            "Shared secret key (Alice): 2\n",
            "Shared secret key (Bob): 2\n"
          ]
        }
      ]
    },
    {
      "cell_type": "markdown",
      "source": [
        "**Here is the shared secret key S using Eve's knowledge of A and B**"
      ],
      "metadata": {
        "id": "HCRjoNDF20P1"
      }
    },
    {
      "cell_type": "code",
      "source": [
        "# Parameters\n",
        "p = 23\n",
        "A = 8  # Intercepted public key A\n",
        "B = 19  # Intercepted public key B\n",
        "Eve_private_key = 9  # Eve's private key\n",
        "\n",
        "# Function to calculate shared secret key for Eve\n",
        "def calculate_shared_secret_key_eve(public_key, private_key, prime):\n",
        "    return (public_key ** private_key) % prime\n",
        "\n",
        "# Calculate shared secret key for Eve\n",
        "shared_secret_key_Eve_A = calculate_shared_secret_key_eve(B, Eve_private_key, p)\n",
        "shared_secret_key_Eve_B = calculate_shared_secret_key_eve(A, Eve_private_key, p)\n",
        "\n",
        "# Output\n",
        "print(\"Shared secret key for Eve using intercepted public key A:\", shared_secret_key_Eve_A)\n",
        "print(\"Shared secret key for Eve using intercepted public key B:\", shared_secret_key_Eve_B)\n"
      ],
      "metadata": {
        "colab": {
          "base_uri": "https://localhost:8080/"
        },
        "id": "p0xlMLl43R3v",
        "outputId": "0e867394-506d-489c-f9ad-f7836f9273d8"
      },
      "execution_count": null,
      "outputs": [
        {
          "output_type": "stream",
          "name": "stdout",
          "text": [
            "Shared secret key for Eve using intercepted public key A: 10\n",
            "Shared secret key for Eve using intercepted public key B: 9\n"
          ]
        }
      ]
    }
  ]
}