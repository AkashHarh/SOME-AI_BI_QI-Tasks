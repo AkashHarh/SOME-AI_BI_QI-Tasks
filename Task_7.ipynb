{
  "nbformat": 4,
  "nbformat_minor": 0,
  "metadata": {
    "colab": {
      "provenance": []
    },
    "kernelspec": {
      "name": "python3",
      "display_name": "Python 3"
    },
    "language_info": {
      "name": "python"
    }
  },
  "cells": [
    {
      "cell_type": "code",
      "source": [
        "import numpy as np\n",
        "import tensorflow as tf\n",
        "from tensorflow.keras import layers, models, optimizers\n",
        "from sklearn.model_selection import train_test_split\n",
        "from sklearn.preprocessing import LabelEncoder\n",
        "from sklearn.metrics import accuracy_score\n",
        "from sklearn.datasets import fetch_lfw_people\n",
        "\n",
        "# Load the LFW dataset\n",
        "lfw_people = fetch_lfw_people(min_faces_per_person=70, resize=0.4)\n",
        "X = lfw_people.images\n",
        "y = lfw_people.target\n",
        "\n",
        "# Preprocess the data\n",
        "X = X.astype('float32') / 255.0\n",
        "X = np.expand_dims(X, axis=-1)\n",
        "\n",
        "# Split the data into training and testing sets\n",
        "X_train, X_test, y_train, y_test = train_test_split(X, y, test_size=0.2, random_state=42)\n",
        "\n",
        "# Encode the labels\n",
        "label_encoder = LabelEncoder()\n",
        "y_train_encoded = label_encoder.fit_transform(y_train)\n",
        "y_test_encoded = label_encoder.transform(y_test)\n",
        "\n",
        "# Define the CNN model architecture\n",
        "model = models.Sequential([\n",
        "    layers.Conv2D(32, (3, 3), activation='relu', input_shape=(50, 37, 1)),\n",
        "    layers.MaxPooling2D((2, 2)),\n",
        "    layers.Conv2D(64, (3, 3), activation='relu'),\n",
        "    layers.MaxPooling2D((2, 2)),\n",
        "    layers.Conv2D(64, (3, 3), activation='relu'),\n",
        "    layers.Flatten(),\n",
        "    layers.Dense(64, activation='relu'),\n",
        "    layers.Dense(10, activation='softmax')\n",
        "])\n",
        "\n",
        "# Compile the model\n",
        "model.compile(optimizer='adam',\n",
        "              loss='sparse_categorical_crossentropy',\n",
        "              metrics=['accuracy'])\n",
        "\n",
        "# Train the model\n",
        "history = model.fit(X_train, y_train_encoded, epochs=10, validation_split=0.2)\n",
        "\n",
        "# Evaluate the model\n",
        "test_loss, test_accuracy = model.evaluate(X_test, y_test_encoded)\n",
        "print(\"Test Accuracy:\", test_accuracy)\n",
        "\n",
        "# Save the trained model\n",
        "model.save(\"lfw_facial_recognition_model.h5\")\n"
      ],
      "metadata": {
        "colab": {
          "base_uri": "https://localhost:8080/"
        },
        "id": "1l_LGb7QAL28",
        "outputId": "3af49f7b-4da5-4e84-d800-cc358b5ecb74"
      },
      "execution_count": null,
      "outputs": [
        {
          "output_type": "stream",
          "name": "stdout",
          "text": [
            "Epoch 1/10\n",
            "26/26 [==============================] - 3s 83ms/step - loss: 2.0172 - accuracy: 0.3811 - val_loss: 1.7147 - val_accuracy: 0.4029\n",
            "Epoch 2/10\n",
            "26/26 [==============================] - 3s 124ms/step - loss: 1.7473 - accuracy: 0.3981 - val_loss: 1.6818 - val_accuracy: 0.4029\n",
            "Epoch 3/10\n",
            "26/26 [==============================] - 2s 74ms/step - loss: 1.7299 - accuracy: 0.3981 - val_loss: 1.6985 - val_accuracy: 0.4029\n",
            "Epoch 4/10\n",
            "26/26 [==============================] - 2s 74ms/step - loss: 1.7326 - accuracy: 0.3981 - val_loss: 1.6838 - val_accuracy: 0.4029\n",
            "Epoch 5/10\n",
            "26/26 [==============================] - 2s 72ms/step - loss: 1.7316 - accuracy: 0.3981 - val_loss: 1.6761 - val_accuracy: 0.4029\n",
            "Epoch 6/10\n",
            "26/26 [==============================] - 2s 73ms/step - loss: 1.7250 - accuracy: 0.3981 - val_loss: 1.6723 - val_accuracy: 0.4029\n",
            "Epoch 7/10\n",
            "26/26 [==============================] - 2s 71ms/step - loss: 1.7258 - accuracy: 0.3981 - val_loss: 1.6832 - val_accuracy: 0.4029\n",
            "Epoch 8/10\n",
            "26/26 [==============================] - 3s 114ms/step - loss: 1.7263 - accuracy: 0.3981 - val_loss: 1.6680 - val_accuracy: 0.4029\n",
            "Epoch 9/10\n",
            "26/26 [==============================] - 2s 78ms/step - loss: 1.7196 - accuracy: 0.3981 - val_loss: 1.6647 - val_accuracy: 0.4029\n",
            "Epoch 10/10\n",
            "26/26 [==============================] - 2s 72ms/step - loss: 1.7278 - accuracy: 0.3981 - val_loss: 1.6727 - val_accuracy: 0.4029\n",
            "9/9 [==============================] - 0s 31ms/step - loss: 1.6071 - accuracy: 0.4612\n",
            "Test Accuracy: 0.46124032139778137\n"
          ]
        },
        {
          "output_type": "stream",
          "name": "stderr",
          "text": [
            "/usr/local/lib/python3.10/dist-packages/keras/src/engine/training.py:3103: UserWarning: You are saving your model as an HDF5 file via `model.save()`. This file format is considered legacy. We recommend using instead the native Keras format, e.g. `model.save('my_model.keras')`.\n",
            "  saving_api.save_model(\n"
          ]
        }
      ]
    },
    {
      "cell_type": "markdown",
      "source": [
        "**implementing a classical deep learning model (e.g., using TensorFlow or PyTorch) to train on the facial recognition dataset and achieve high accuracy in identifying faces. Optimize the model architecture, hyperparameters, and training process to improve the recognition performance.**"
      ],
      "metadata": {
        "id": "CPHww6-gE1fb"
      }
    },
    {
      "cell_type": "code",
      "source": [
        "import numpy as np\n",
        "import tensorflow as tf\n",
        "from tensorflow.keras.applications import ResNet50\n",
        "from tensorflow.keras.preprocessing import image\n",
        "from tensorflow.keras.applications.resnet50 import preprocess_input, decode_predictions\n",
        "from sklearn.datasets import fetch_lfw_people\n",
        "from sklearn.model_selection import train_test_split\n",
        "from sklearn.preprocessing import LabelEncoder\n",
        "from skimage.transform import resize\n",
        "\n",
        "# Load LFW dataset\n",
        "lfw_people = fetch_lfw_people(min_faces_per_person=70, resize=0.4)\n",
        "\n",
        "# Preprocess the data\n",
        "X = lfw_people.images\n",
        "y = lfw_people.target\n",
        "\n",
        "# Resize images to match ResNet50 input shape\n",
        "X_resized = np.array([resize(img, (128, 128, 3)) for img in X])\n",
        "\n",
        "# Split data into training and testing sets\n",
        "X_train, X_test, y_train, y_test = train_test_split(X_resized, y, test_size=0.2, random_state=42)\n",
        "\n",
        "# Encode labels\n",
        "label_encoder = LabelEncoder()\n",
        "y_train_encoded = label_encoder.fit_transform(y_train)\n",
        "y_test_encoded = label_encoder.transform(y_test)\n",
        "\n",
        "# Load pre-trained ResNet50 model\n",
        "model = ResNet50(weights='imagenet', include_top=False, input_shape=(128, 128, 3))\n",
        "\n",
        "# Freeze pre-trained layers\n",
        "for layer in model.layers:\n",
        "    layer.trainable = False\n",
        "\n",
        "# Add custom output layers\n",
        "x = tf.keras.layers.GlobalAveragePooling2D()(model.output)\n",
        "x = tf.keras.layers.Dense(128, activation='relu')(x)\n",
        "predictions = tf.keras.layers.Dense(len(label_encoder.classes_), activation='softmax')(x)\n",
        "\n",
        "# Create the final model\n",
        "final_model = tf.keras.models.Model(inputs=model.input, outputs=predictions)\n",
        "\n",
        "# Compile the model\n",
        "final_model.compile(optimizer='adam', loss='sparse_categorical_crossentropy', metrics=['accuracy'])\n",
        "\n",
        "# Train the model\n",
        "final_model.fit(X_train, y_train_encoded, epochs=10, validation_split=0.2)\n",
        "\n",
        "# Evaluate the model\n",
        "test_loss, test_accuracy = final_model.evaluate(X_test, y_test_encoded)\n",
        "print(\"Test Accuracy:\", test_accuracy)\n",
        "\n"
      ],
      "metadata": {
        "colab": {
          "base_uri": "https://localhost:8080/"
        },
        "id": "g2p1vkpxAyXf",
        "outputId": "1272ca3a-222a-4066-dc3a-798b651679a4"
      },
      "execution_count": null,
      "outputs": [
        {
          "output_type": "stream",
          "name": "stdout",
          "text": [
            "Epoch 1/10\n",
            "26/26 [==============================] - 76s 3s/step - loss: 1.8266 - accuracy: 0.3350 - val_loss: 1.6807 - val_accuracy: 0.4029\n",
            "Epoch 2/10\n",
            "26/26 [==============================] - 69s 3s/step - loss: 1.7195 - accuracy: 0.3981 - val_loss: 1.6838 - val_accuracy: 0.4029\n",
            "Epoch 3/10\n",
            "26/26 [==============================] - 71s 3s/step - loss: 1.7348 - accuracy: 0.3981 - val_loss: 1.6818 - val_accuracy: 0.4029\n",
            "Epoch 4/10\n",
            "26/26 [==============================] - 69s 3s/step - loss: 1.7239 - accuracy: 0.3981 - val_loss: 1.6717 - val_accuracy: 0.4029\n",
            "Epoch 5/10\n",
            "26/26 [==============================] - 60s 2s/step - loss: 1.7120 - accuracy: 0.3981 - val_loss: 1.6829 - val_accuracy: 0.4029\n",
            "Epoch 6/10\n",
            "26/26 [==============================] - 71s 3s/step - loss: 1.7158 - accuracy: 0.3981 - val_loss: 1.6660 - val_accuracy: 0.4029\n",
            "Epoch 7/10\n",
            "26/26 [==============================] - 69s 3s/step - loss: 1.7142 - accuracy: 0.3981 - val_loss: 1.6641 - val_accuracy: 0.4029\n",
            "Epoch 8/10\n",
            "26/26 [==============================] - 69s 3s/step - loss: 1.7089 - accuracy: 0.3981 - val_loss: 1.6652 - val_accuracy: 0.4029\n",
            "Epoch 9/10\n",
            "26/26 [==============================] - 72s 3s/step - loss: 1.7063 - accuracy: 0.3981 - val_loss: 1.6704 - val_accuracy: 0.4029\n",
            "Epoch 10/10\n",
            "26/26 [==============================] - 71s 3s/step - loss: 1.7189 - accuracy: 0.3981 - val_loss: 1.6734 - val_accuracy: 0.4029\n",
            "9/9 [==============================] - 15s 2s/step - loss: 1.6041 - accuracy: 0.4612\n",
            "Test Accuracy: 0.46124032139778137\n"
          ]
        }
      ]
    },
    {
      "cell_type": "markdown",
      "source": [
        "**Developing a Python program that utilizes a deep learning model (such as a convolutional neural network) to perform facial recognition on a dataset of images. The program should be able to accurately identify and classify faces in the images based on pre-trained facial recognition features.**"
      ],
      "metadata": {
        "id": "_BHCUomREs9x"
      }
    }
  ]
}