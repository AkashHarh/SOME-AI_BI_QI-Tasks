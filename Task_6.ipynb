{
  "nbformat": 4,
  "nbformat_minor": 0,
  "metadata": {
    "colab": {
      "provenance": []
    },
    "kernelspec": {
      "name": "python3",
      "display_name": "Python 3"
    },
    "language_info": {
      "name": "python"
    }
  },
  "cells": [
    {
      "cell_type": "code",
      "execution_count": null,
      "metadata": {
        "colab": {
          "base_uri": "https://localhost:8080/"
        },
        "id": "nCHHCdAoIQHX",
        "outputId": "3da601bf-c1a0-4e40-e905-3b84ff37fd67"
      },
      "outputs": [
        {
          "output_type": "stream",
          "name": "stdout",
          "text": [
            "Constant Oracle Result: Constant\n",
            "Balanced Oracle Result: Constant\n"
          ]
        }
      ],
      "source": [
        "def deutsch_josza_algorithm(oracle):\n",
        "    \"\"\"\n",
        "    Simulates the classical Deutsch-Josza algorithm to determine whether a given binary function\n",
        "    represented by the oracle is constant or balanced.\n",
        "\n",
        "    Args:\n",
        "    - oracle (function): A classical oracle representing the binary function. It takes a string\n",
        "                         of bits as input and returns 0 or 1.\n",
        "\n",
        "    Returns:\n",
        "    - str: \"Constant\" if the function is constant, \"Balanced\" if the function is balanced.\n",
        "    \"\"\"\n",
        "\n",
        "    # Step 1: Prepare the quantum state |0..0⟩|1⟩\n",
        "    n = len(next(iter(oracle.__code__.co_varnames)))  # Determine the number of bits in the input\n",
        "    state = '0' * n + '1'\n",
        "\n",
        "    # Step 2: Apply Hadamard gates to all qubits\n",
        "    state = 'H' * (n + 1) + state\n",
        "\n",
        "    # Step 3: Apply the oracle\n",
        "    state = oracle(state)\n",
        "\n",
        "    # Step 4: Apply Hadamard gates to all qubits except the last one\n",
        "    state = 'H' * n + 'X' * n + 'H' * n + state\n",
        "\n",
        "    # Measure the first n qubits\n",
        "    result = state[:n]\n",
        "\n",
        "    # If the result is all zeros, the function is constant\n",
        "    if '1' not in result:\n",
        "        return \"Constant\"\n",
        "    # If the result is not all zeros, the function is balanced\n",
        "    else:\n",
        "        return \"Balanced\"\n",
        "\n",
        "# Example of a constant oracle function\n",
        "def constant_oracle(input_string):\n",
        "    \"\"\"\n",
        "    Example of a constant oracle function.\n",
        "    Always returns 0.\n",
        "    \"\"\"\n",
        "    return '0'\n",
        "\n",
        "# Example of a balanced oracle function\n",
        "def balanced_oracle(input_string):\n",
        "    \"\"\"\n",
        "    Example of a balanced oracle function.\n",
        "    Returns 1 if the number of ones in the input string is even, otherwise returns 0.\n",
        "    \"\"\"\n",
        "    return '1' if input_string.count('1') % 2 == 0 else '0'\n",
        "\n",
        "# Test the Deutsch-Josza algorithm with the example oracles\n",
        "print(\"Constant Oracle Result:\", deutsch_josza_algorithm(constant_oracle))\n",
        "print(\"Balanced Oracle Result:\", deutsch_josza_algorithm(balanced_oracle))\n"
      ]
    },
    {
      "cell_type": "markdown",
      "source": [
        "**The deutsch_josza_algorithm function takes an oracle function as input, which represents the binary function we want to determine if it's constant or balanced.\n",
        "The function simulates the steps of the Deutsch-Josza algorithm using classical operations.\n",
        "Two example oracle functions, constant_oracle and balanced_oracle, are provided to test the algorithm.\n",
        "The result of the algorithm is printed for both oracles, indicating whether they are constant or balanced.**"
      ],
      "metadata": {
        "id": "1mmHhN9NMomN"
      }
    },
    {
      "cell_type": "code",
      "source": [
        "!pip install qiskit"
      ],
      "metadata": {
        "colab": {
          "base_uri": "https://localhost:8080/"
        },
        "id": "wYhuSlzLIuVE",
        "outputId": "fc595bb7-ec3d-4cf3-e82d-6346cdb26c2e"
      },
      "execution_count": null,
      "outputs": [
        {
          "output_type": "stream",
          "name": "stdout",
          "text": [
            "Collecting qiskit\n",
            "  Downloading qiskit-1.0.2-cp38-abi3-manylinux_2_17_x86_64.manylinux2014_x86_64.whl (5.6 MB)\n",
            "\u001b[2K     \u001b[90m━━━━━━━━━━━━━━━━━━━━━━━━━━━━━━━━━━━━━━━━\u001b[0m \u001b[32m5.6/5.6 MB\u001b[0m \u001b[31m17.1 MB/s\u001b[0m eta \u001b[36m0:00:00\u001b[0m\n",
            "\u001b[?25hCollecting rustworkx>=0.14.0 (from qiskit)\n",
            "  Downloading rustworkx-0.14.2-cp310-cp310-manylinux_2_17_x86_64.manylinux2014_x86_64.whl (2.1 MB)\n",
            "\u001b[2K     \u001b[90m━━━━━━━━━━━━━━━━━━━━━━━━━━━━━━━━━━━━━━━━\u001b[0m \u001b[32m2.1/2.1 MB\u001b[0m \u001b[31m30.0 MB/s\u001b[0m eta \u001b[36m0:00:00\u001b[0m\n",
            "\u001b[?25hRequirement already satisfied: numpy<2,>=1.17 in /usr/local/lib/python3.10/dist-packages (from qiskit) (1.25.2)\n",
            "Requirement already satisfied: scipy>=1.5 in /usr/local/lib/python3.10/dist-packages (from qiskit) (1.11.4)\n",
            "Requirement already satisfied: sympy>=1.3 in /usr/local/lib/python3.10/dist-packages (from qiskit) (1.12)\n",
            "Collecting dill>=0.3 (from qiskit)\n",
            "  Downloading dill-0.3.8-py3-none-any.whl (116 kB)\n",
            "\u001b[2K     \u001b[90m━━━━━━━━━━━━━━━━━━━━━━━━━━━━━━━━━━━━━━━━\u001b[0m \u001b[32m116.3/116.3 kB\u001b[0m \u001b[31m12.6 MB/s\u001b[0m eta \u001b[36m0:00:00\u001b[0m\n",
            "\u001b[?25hRequirement already satisfied: python-dateutil>=2.8.0 in /usr/local/lib/python3.10/dist-packages (from qiskit) (2.8.2)\n",
            "Collecting stevedore>=3.0.0 (from qiskit)\n",
            "  Downloading stevedore-5.2.0-py3-none-any.whl (49 kB)\n",
            "\u001b[2K     \u001b[90m━━━━━━━━━━━━━━━━━━━━━━━━━━━━━━━━━━━━━━━━\u001b[0m \u001b[32m49.7/49.7 kB\u001b[0m \u001b[31m5.5 MB/s\u001b[0m eta \u001b[36m0:00:00\u001b[0m\n",
            "\u001b[?25hRequirement already satisfied: typing-extensions in /usr/local/lib/python3.10/dist-packages (from qiskit) (4.11.0)\n",
            "Collecting symengine>=0.11 (from qiskit)\n",
            "  Downloading symengine-0.11.0-cp310-cp310-manylinux_2_12_x86_64.manylinux2010_x86_64.whl (39.4 MB)\n",
            "\u001b[2K     \u001b[90m━━━━━━━━━━━━━━━━━━━━━━━━━━━━━━━━━━━━━━━━\u001b[0m \u001b[32m39.4/39.4 MB\u001b[0m \u001b[31m13.3 MB/s\u001b[0m eta \u001b[36m0:00:00\u001b[0m\n",
            "\u001b[?25hRequirement already satisfied: six>=1.5 in /usr/local/lib/python3.10/dist-packages (from python-dateutil>=2.8.0->qiskit) (1.16.0)\n",
            "Collecting pbr!=2.1.0,>=2.0.0 (from stevedore>=3.0.0->qiskit)\n",
            "  Downloading pbr-6.0.0-py2.py3-none-any.whl (107 kB)\n",
            "\u001b[2K     \u001b[90m━━━━━━━━━━━━━━━━━━━━━━━━━━━━━━━━━━━━━━━━\u001b[0m \u001b[32m107.5/107.5 kB\u001b[0m \u001b[31m14.4 MB/s\u001b[0m eta \u001b[36m0:00:00\u001b[0m\n",
            "\u001b[?25hRequirement already satisfied: mpmath>=0.19 in /usr/local/lib/python3.10/dist-packages (from sympy>=1.3->qiskit) (1.3.0)\n",
            "Installing collected packages: symengine, rustworkx, pbr, dill, stevedore, qiskit\n",
            "Successfully installed dill-0.3.8 pbr-6.0.0 qiskit-1.0.2 rustworkx-0.14.2 stevedore-5.2.0 symengine-0.11.0\n"
          ]
        }
      ]
    },
    {
      "cell_type": "code",
      "source": [
        "from qiskit import QuantumCircuit\n",
        "from qiskit_aer import Aer"
      ],
      "metadata": {
        "id": "PjWWZaMIJ6oM"
      },
      "execution_count": null,
      "outputs": []
    },
    {
      "cell_type": "code",
      "source": [
        "from qiskit import QuantumCircuit, transpile, assemble\n",
        "from qiskit.visualization import plot_histogram\n",
        "\n",
        "def deutsch_josza_algorithm(oracle, n):\n",
        "    \"\"\"\n",
        "    Implements the quantum Deutsch-Josza algorithm to determine whether a given binary function\n",
        "    represented by the oracle is constant or balanced.\n",
        "\n",
        "    Args:\n",
        "    - oracle (function): A quantum oracle representing the binary function. It takes a QuantumCircuit\n",
        "                         object as input and applies the necessary operations to the circuit to implement\n",
        "                         the oracle function.\n",
        "    - n (int): The number of input qubits in the oracle.\n",
        "\n",
        "    Returns:\n",
        "    - str: \"Constant\" if the function is constant, \"Balanced\" if the function is balanced.\n",
        "    \"\"\"\n",
        "\n",
        "    # Create a quantum circuit with n+1 qubits (n for input, 1 for output)\n",
        "    qc = QuantumCircuit(n + 1, n)\n",
        "\n",
        "    # Apply Hadamard gate to all qubits\n",
        "    qc.h(range(n + 1))\n",
        "\n",
        "    # Apply the oracle function\n",
        "    oracle(qc, n)\n",
        "\n",
        "    # Apply Hadamard gate to input qubits\n",
        "    qc.h(range(n))\n",
        "\n",
        "    # Measure input qubits\n",
        "    qc.measure(range(n), range(n))\n",
        "\n",
        "    # Simulate the quantum circuit\n",
        "    simulator = Aer.get_backend('qasm_simulator')\n",
        "    transpiled_qc = transpile(qc, simulator)\n",
        "    qobj = assemble(transpiled_qc)\n",
        "    result = simulator.run(qobj).result()\n",
        "    counts = result.get_counts()\n",
        "\n",
        "    # Determine whether the function is constant or balanced based on the measurement results\n",
        "    if len(counts) == 1:\n",
        "        return \"Constant\"\n",
        "    else:\n",
        "        return \"Balanced\"\n",
        "\n",
        "# Example of a constant oracle function\n",
        "def constant_oracle(qc, n):\n",
        "    \"\"\"\n",
        "    Example of a constant oracle function.\n",
        "    Always returns 0.\n",
        "    \"\"\"\n",
        "    pass  # No operations needed for a constant oracle\n",
        "\n",
        "# Example of a balanced oracle function\n",
        "def balanced_oracle(qc, n):\n",
        "    \"\"\"\n",
        "    Example of a balanced oracle function.\n",
        "    Applies CNOT gate to the input qubits controlled by the output qubit.\n",
        "    \"\"\"\n",
        "    for qubit in range(n):  # Iterate over input qubits\n",
        "        qc.cx(qubit, n)  # Apply CNOT gate controlled by the output qubit\n",
        "\n",
        "# Test the Deutsch-Josza algorithm with the example oracles\n",
        "n = 4  # Number of input qubits\n",
        "print(\"Constant Oracle Result:\", deutsch_josza_algorithm(constant_oracle, n))\n",
        "print(\"Balanced Oracle Result:\", deutsch_josza_algorithm(balanced_oracle, n))"
      ],
      "metadata": {
        "colab": {
          "base_uri": "https://localhost:8080/"
        },
        "id": "yomHyKFrIhJq",
        "outputId": "1dbeb5ac-1dd4-43b8-c735-eef0e054ce93"
      },
      "execution_count": null,
      "outputs": [
        {
          "output_type": "stream",
          "name": "stdout",
          "text": [
            "Constant Oracle Result: Constant\n",
            "Balanced Oracle Result: Constant\n"
          ]
        },
        {
          "output_type": "stream",
          "name": "stderr",
          "text": [
            "<ipython-input-17-a56bd2745ad7>:38: DeprecationWarning: Using a qobj for run() is deprecated as of qiskit-aer 0.14 and will be removed no sooner than 3 months from that release date. Transpiled circuits should now be passed directly using `backend.run(circuits, **run_options).\n",
            "  result = simulator.run(qobj).result()\n"
          ]
        }
      ]
    },
    {
      "cell_type": "markdown",
      "source": [
        "**The deutsch_josza_algorithm function takes a quantum oracle function and the number of input qubits as input.\n",
        "It creates a quantum circuit with the required number of qubits and applies the necessary gates according to the Deutsch-Josza algorithm.\n",
        "The oracle function is applied to the quantum circuit to encode the binary function.\n",
        "The circuit is then simulated, and the measurement results are analyzed to determine whether the function is constant or balanced.\n",
        "Two example oracle functions, constant_oracle and balanced_oracle, are provided to test the algorithm.\n",
        "The result of the algorithm is printed for both oracles, indicating whether they are constant or balanced.**"
      ],
      "metadata": {
        "id": "od58i7o3MX_s"
      }
    },
    {
      "cell_type": "markdown",
      "source": [
        "**To compare the efficiency and speedup achieved by the quantum approach over the classical approach in solving the Deutsch-Josza problem, we need to consider several factors:\n",
        "Complexity: The classical Deutsch-Josza algorithm requires\n",
        "𝑂(2𝑛) queries to the oracle function to determine whether the function is constant or balanced, where n is the number of input bits. In contrast, the quantum Deutsch-Josza algorithm requires only a single query to the oracle function.\n",
        "Execution Time: The execution time of the classical algorithm depends on the number of queries made to the oracle function and the computational resources available. In contrast, the execution time of the quantum algorithm is typically fixed and independent of the problem size.\n",
        "Scalability: The classical algorithm's execution time grows exponentially with the problem size, making it inefficient for large inputs. The quantum algorithm, on the other hand, remains efficient even for large problem sizes due to its parallel processing capabilities.\n",
        "Hardware Constraints: The quantum algorithm's performance may be limited by the availability and quality of quantum hardware, as well as the number of qubits required for the problem. In contrast, the classical algorithm's performance depends on the available computational resources and the efficiency of the implementation.\n",
        "Algorithmic Overhead: The quantum algorithm may involve additional overhead due to the need for qubit initialization, gate operations, and measurement, which can impact its overall efficiency compared to the classical algorithm.\n",
        "To quantitatively compare the efficiency and speedup achieved by the quantum approach over the classical approach, we can measure the execution time of both algorithms for various problem sizes and compare the results. Additionally, we can analyze the scalability of both algorithms and evaluate their performance on different hardware platforms.\n",
        "In summary, while the quantum algorithm offers a significant theoretical speedup over the classical algorithm in terms of query complexity, its practical efficiency and speedup depend on various factors such as problem size, hardware constraints, and algorithmic overhead. Conducting empirical experiments and performance benchmarks would provide valuable insights into the comparative efficiency of the two approaches.**"
      ],
      "metadata": {
        "id": "85L65aJyNFFo"
      }
    }
  ]
}